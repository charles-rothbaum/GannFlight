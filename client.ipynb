{
 "cells": [
  {
   "cell_type": "code",
   "execution_count": 1,
   "metadata": {},
   "outputs": [],
   "source": [
    "from pymavlink import mavutil\n",
    "import math\n",
    "import tkinter as tk\n",
    "import socket\n",
    "import time\n",
    "import helper\n",
    "import threading\n",
    "import torch\n",
    "import torch.nn as nn\n",
    "import numpy as np\n",
    "import random\n",
    "import transformations as tft\n",
    "import matplotlib.pyplot as plt\n",
    "from mpl_toolkits.mplot3d import Axes3D\n",
    "from matplotlib import cm"
   ]
  },
  {
   "cell_type": "code",
   "execution_count": 2,
   "metadata": {},
   "outputs": [],
   "source": [
    "SIM_COMPUTER_IP = '192.168.1.124'  # IP address of the simulation computer\n",
    "PORT = 15000  # The same port as used by the server"
   ]
  },
  {
   "cell_type": "code",
   "execution_count": 3,
   "metadata": {},
   "outputs": [],
   "source": [
    "def send_command(command):\n",
    "    with socket.socket(socket.AF_INET, socket.SOCK_STREAM) as s:\n",
    "        s.connect((SIM_COMPUTER_IP, PORT))\n",
    "        s.sendall(command.encode('utf-8'))\n",
    "\n",
    "def start_instance(instance_id, out_port):\n",
    "    send_command(f\"start {instance_id} {out_port}\")\n",
    "\n",
    "def stop_instance(instance_id):\n",
    "    send_command(f\"stop {instance_id}\")\n",
    "\n",
    "def connect(port):\n",
    "    connection = mavutil.mavlink_connection(f'udpin:0.0.0.0:{port}') \n",
    "\n",
    "    connection.wait_heartbeat() #wait until we hear a heartbeat from the copter\n",
    "\n",
    "    return connection \n",
    "\n",
    "def get_current_position(connection):\n",
    "\n",
    "    msg = connection.recv_match(type='LOCAL_POSITION_NED', blocking=True)\n",
    "\n",
    "    north = msg.x\n",
    "    east = msg.y\n",
    "    down = -msg.z\n",
    "\n",
    "    return(north, east, down)\n",
    "\n",
    "\n",
    "def set_attitude(connection, x, y, z, r):\n",
    "    q = tft.quaternion_from_euler(x, y, r)\n",
    "    \n",
    "    # Send SET_ATTITUDE_TARGET message\n",
    "\n",
    "    connection.mav.set_attitude_target_send(\n",
    "        0,  # time_boot_ms\n",
    "        connection.target_system,\n",
    "        connection.target_component,\n",
    "        0b00000000,  # Type mask\n",
    "        q,  # Quaternion\n",
    "        0, 0, 0,\n",
    "        z # Thrust\n",
    "\n",
    "    )\n",
    "    \n",
    "def get_current_attitude(connection):\n",
    "    attitude_msg = connection.recv_match(type='ATTITUDE', blocking=True)\n",
    "    hud_msg = connection.recv_match(type='VFR_HUD', blocking=True)\n",
    "    if attitude_msg is not None:\n",
    "        roll = attitude_msg.roll\n",
    "        pitch = attitude_msg.pitch\n",
    "        yaw_rate = attitude_msg.yawspeed \n",
    "\n",
    "    if hud_msg is not None:\n",
    "        thrust = hud_msg.throttle \n",
    "\n",
    "    #print(f\"Roll: {roll:.3f} rad, Pitch: {pitch:.3f} rad, Yaw Rate: {yaw_rate:.3f} rad/s, Thrust: {thrust}%\")\n",
    "    return (roll, pitch, yaw_rate, thrust)\n",
    "\n",
    "def wait_for_gps_lock(connection, timeout=60):\n",
    "    start_time = time.time()\n",
    "    while True:\n",
    "        # Check for timeout\n",
    "        if time.time() - start_time > timeout:\n",
    "            print(\"Timeout waiting for GPS lock.\")\n",
    "            return False\n",
    "            \n",
    "        # Fetch GPS_RAW_INT messages\n",
    "        msg = connection.recv_match(type='GPS_RAW_INT', blocking=True, timeout=5)\n",
    "        if not msg:\n",
    "            print(\"No GPS data received.\")\n",
    "            continue\n",
    "            \n",
    "        # Check for 3D lock\n",
    "        if msg.fix_type >= 3:\n",
    "            print(f\"GPS lock acquired with {msg.satellites_visible} satellites.\")\n",
    "            return True\n",
    "        else:\n",
    "            print(f\"Current GPS fix type: {msg.fix_type}, waiting for 3D lock...\")\n",
    "\n",
    "        time.sleep(1)\n",
    "\n",
    "\n",
    "def arm(mavlink_connection):\n",
    "    \"\"\"\n",
    "    Arms vehicle and fly to a target altitude.\n",
    "    :param mavlink_connection: The connection to the vehicle\n",
    "    :param target_altitude: Target altitude in meters\n",
    "    \"\"\"\n",
    "\n",
    "    print(\"Basic pre-arm checks\")\n",
    "    # Wait for vehicle to initialize and become ready\n",
    "    while not mavlink_connection.wait_heartbeat(timeout=5):\n",
    "        print(\"Waiting for vehicle heartbeat\")\n",
    "\n",
    "           \n",
    "    print(\"Setting vehicle to GUIDED mode\")\n",
    "    mavlink_connection.mav.set_mode_send(mavlink_connection.target_system, mavutil.mavlink.MAV_MODE_FLAG_CUSTOM_MODE_ENABLED, 4) \n",
    "    \n",
    "    \n",
    "\n",
    "    # Wait a bit for the mode to change\n",
    "    time.sleep(2)\n",
    "\n",
    "    # Copter should arm in GUIDED mode\n",
    "    mavlink_connection.mav.command_long_send(\n",
    "        mavlink_connection.target_system, mavlink_connection.target_component,\n",
    "        mavutil.mavlink.MAV_CMD_COMPONENT_ARM_DISARM,\n",
    "        0,  # Confirmation\n",
    "        1,  # 1 to arm\n",
    "        0, 0, 0, 0, 0, 0  # Unused parameters for this command\n",
    "    )\n",
    "    \n",
    "    \n",
    "def waitForEKF2(connection):\n",
    "    while True:\n",
    "        msg = connection.recv_match(type='STATUSTEXT', blocking=True, timeout=5)\n",
    "        if msg is None:\n",
    "            continue\n",
    "        text = msg.text.decode('utf-8')\n",
    "        if \"EKF2 IMU0 is using GPS\" in text:\n",
    "            print(\"Received EKF2 GPS lock message.\")\n",
    "            return True\n",
    "\n",
    "def takeoff(mavlink_connection, alt):\n",
    "    #Assumes you have already set to guided mode and armed.\n",
    "\n",
    "    mavlink_connection.mav.command_long_send(mavlink_connection.target_system, mavlink_connection.target_component, \n",
    "                                 mavutil.mavlink.MAV_CMD_NAV_TAKEOFF, 0, 0, 0, 0, 0, 0, 0, alt)\n",
    "    \n",
    "    #See how the copter responded to the takeoff command\n",
    "    msg = mavlink_connection.recv_match(type = 'COMMAND_ACK', blocking = True)\n",
    "    #print(msg)\n",
    "\n",
    "    while True:\n",
    "        # Wait for the next LOCAL_POSITION_NED message\n",
    "        msg = mavlink_connection.recv_match(type='LOCAL_POSITION_NED', blocking=True)\n",
    "        \n",
    "    \n",
    "        if abs(msg.z * -1 - alt) < 1.0:\n",
    "            print(\"Reached target altitude\")\n",
    "            break\n",
    "\n",
    "#send local frame coordinates and have copter fly over that spot.\n",
    "def send_waypoint_local(connection, x, y, alt):\n",
    "    connection.mav.send(mavutil.mavlink.MAVLink_set_position_target_local_ned_message\n",
    "                    (10, connection.target_system, connection.target_component, mavutil.mavlink.MAV_FRAME_LOCAL_NED, \n",
    "                     int(0b010111111000), x, y, alt,\n",
    "                      0, 0, 0, 0, 0, 0, 0, 0))\n",
    "\n",
    "    time.sleep(1)\n"
   ]
  },
  {
   "cell_type": "code",
   "execution_count": 4,
   "metadata": {},
   "outputs": [],
   "source": [
    "def plot_3d_paths(results, target):\n",
    "    fig = plt.figure(figsize=(15, 13))\n",
    "    \n",
    "    num_paths = len(results)\n",
    "    cols = 2  \n",
    "    rows = (num_paths + cols - 1) // cols  \n",
    "    \n",
    "    x_limits = (-30, 30)\n",
    "    y_limits = (-30, 30)\n",
    "    z_limits = (0, 30)\n",
    "    \n",
    "    # Plot each path in a subplot\n",
    "    for index, (pid, path) in enumerate(results.items(), start=1):\n",
    "        ax = fig.add_subplot(rows, cols, index, projection='3d')\n",
    "        path = np.array(path)  \n",
    "        points = np.arange(len(path))\n",
    "        colors = cm.gnuplot(points / max(points))\n",
    "        \n",
    "        ax.scatter(path[:, 0], path[:, 1], path[:, 2], c=colors, cmap='gnuplot', marker='o')\n",
    "        \n",
    "        x, y, z = target\n",
    "        \n",
    "        ax.plot([x], [y], [z], marker='o', color='red', markersize=10, label=\"TARGET\")\n",
    "        \n",
    "        ax.set_xlim(x_limits)\n",
    "        ax.set_ylim(y_limits)\n",
    "        ax.set_zlim(z_limits)\n",
    "        \n",
    "        ax.set_xlabel('North')\n",
    "        ax.set_ylabel('East')\n",
    "        ax.set_zlabel('Down')\n",
    "        ax.set_title(f'PID {pid} Flight Path')\n",
    "\n",
    "    plt.tight_layout()\n",
    "    plt.show()\n"
   ]
  },
  {
   "cell_type": "code",
   "execution_count": 5,
   "metadata": {},
   "outputs": [],
   "source": [
    "# GANN definitions #\n",
    "\n",
    "class DroneNet(nn.Module):\n",
    "    def __init__(self):\n",
    "        super(DroneNet, self).__init__()\n",
    "        self.fc1 = nn.Linear(10, 16)  # First hidden layer from 7 inputs to 10 nodes\n",
    "        self.fc2 = nn.Linear(16, 10)  # Second hidden layer from 10 nodes to 5 nodes\n",
    "        self.output = nn.Linear(10, 4)  # Output layer from 5 nodes to 4 outputs (roll, pitch, thrust, yaw_rate)\n",
    "\n",
    "    def forward(self, x):\n",
    "        x = torch.relu(self.fc1(x))  # ReLu activation for first hidden layer\n",
    "        x = torch.relu(self.fc2(x))  # ReLu activation for second hidden layer\n",
    "        x = self.output(x)  # Output layer, no activation (linear output)\n",
    "        return x\n",
    "    \n",
    "def get_fitness(path, target):\n",
    "    # calculate how close final position was to target and the total distance.\n",
    "    # return a fitness that rewards closeness to target and minumum distance flown.\n",
    "    final_position = path[-1]\n",
    "    fp_north, fp_east, fp_down = final_position\n",
    "    t_north, t_east, t_down = target\n",
    "\n",
    "    distance_from_target = np.sqrt((fp_north-t_north)**2 + (fp_east-t_east)**2 + (fp_down-t_down)**2)\n",
    "\n",
    "    total_distance = 0\n",
    "    for i in range(1, len(path)):\n",
    "        n, e, d = path[i]\n",
    "        old_n, old_e, old_d = path[i-1]\n",
    "\n",
    "        total_distance += np.sqrt((old_n-n)**2 + (old_e-e)**2 + (old_d-d)**2)\n",
    "        \n",
    "    distance_target_score = 1 / (distance_from_target + 1)\n",
    "    distance_total_score = 1 / (total_distance + 1) \n",
    "    \n",
    "    if distance_from_target > 20:\n",
    "        distance_target_score = distance_target_score - 0.75\n",
    "        \n",
    "    distance_target_score = 1 / (distance_from_target + 1)\n",
    "    \n",
    "    if(distance_total_score == 0):\n",
    "        fitness = -100\n",
    "    else:\n",
    "        fitness = distance_target_score + distance_total_score\n",
    "    \n",
    "    print(f\"Fitness: {fitness} dist_from_target = {distance_from_target} and total_distace = {total_distance}\")\n",
    "    \n",
    "    return fitness\n",
    "\n",
    "def mutate(network, mutation_rate, mutation_strength):\n",
    "    with torch.no_grad():\n",
    "        for param in network.parameters():\n",
    "            if random.random() < mutation_rate: \n",
    "                mutation = torch.randn_like(param) * mutation_strength #create a tensor in the same shape as the parameter with random integers scaled by the strenght\n",
    "                param.add_(mutation) #add to existing parameter\n",
    "\n",
    "def crossover(parent1, parent2):\n",
    "    child = DroneNet() \n",
    "    with torch.no_grad():\n",
    "        for child_param, param1, param2 in zip(child.parameters(), parent1.parameters(), parent2.parameters()):\n",
    "            mask = torch.bernoulli(torch.full_like(param1, 0.5))  # Randomly take weights from either parent\n",
    "            child_param.data.copy_(param1.data * mask + param2.data * (1 - mask))\n",
    "    return child\n",
    "\n",
    "def initialize_population(size):\n",
    "    return [DroneNet() for _ in range(size)]\n",
    "\n",
    "def generate_new_population(population, fitness_scores, mutation_rate, mutation_strength):\n",
    "    new_population = []\n",
    "    population_size = len(population)\n",
    "    \n",
    "    sorted_indices = sorted(range(len(fitness_scores)), key=lambda k: fitness_scores[k], reverse=True)\n",
    "        \n",
    "    # Two highest fitnesses\n",
    "    elite = [population[i] for i in sorted_indices[:2]]\n",
    "\n",
    "    # Crossover and mutation to fill the new population\n",
    "    while len(new_population) < population_size - len(elite):\n",
    "        parent1, parent2 = random.sample(elite, 2) # leaving like this in case I increase number of elites \n",
    "        child = crossover(parent1, parent2)\n",
    "        mutate(child, mutation_rate, mutation_strength)\n",
    "        new_population.append(child)\n",
    "\n",
    "    # Ensure that the total new population size does not exceed the original population size\n",
    "    new_population.extend(elite[:population_size - len(new_population)])\n",
    "\n",
    "    return new_population\n",
    "\n",
    "def adjust_output(output):\n",
    "    # Scale from [0, 1] to [1, 50]\n",
    "    return 1 + 49 * output\n",
    "\n"
   ]
  },
  {
   "cell_type": "code",
   "execution_count": 6,
   "metadata": {},
   "outputs": [],
   "source": [
    "command_lock = threading.Lock()\n",
    "\n",
    "def timeout_handler(pid, drone_connection, command_lock, results_lock, result_dict):\n",
    "    print(f\"Timeout reached for instance {pid}. Sending kill command.\")\n",
    "    with command_lock:\n",
    "        try:\n",
    "            stop_instance(pid)\n",
    "            with results_lock:\n",
    "                result_dict[pid] = [[0, 0, 0] for _ in range(35)]\n",
    "\n",
    "        except Exception as e:\n",
    "            print(f\"Error stopping instance {pid}: {e}\")\n",
    "\n",
    "def simulate_drone(pid, out_port, network, result_dict, target, results_lock):\n",
    "    drone_connection = None\n",
    "    timer = threading.Timer(25.0, timeout_handler, [pid, drone_connection, command_lock, results_lock, result_dict])\n",
    "    try:\n",
    "        print(f\"starting instance {pid} on port {out_port}\")\n",
    "        start_instance(pid, out_port)\n",
    "        drone_connection = connect(out_port)\n",
    "        timer.start()\n",
    "        \n",
    "        while True:\n",
    "            msg = drone_connection.recv_match(type='HEARTBEAT', blocking=True)\n",
    "            if not msg:\n",
    "                print(f\"instance {pid} - No heartbeat\")\n",
    "            else:\n",
    "                print(f\"instance {pid} - Heartbeat Recieved!\")\n",
    "                break\n",
    "            \n",
    "        time.sleep(6)\n",
    "\n",
    "        print(f\"instance {pid} - arming throttle in GUIDED mode.\")\n",
    "        arm(drone_connection)\n",
    "        \n",
    "        time.sleep(0.1)\n",
    "\n",
    "        print(f\"instance {pid} - sending takeoff command\")\n",
    "        takeoff(drone_connection, 1)\n",
    "\n",
    "        \n",
    "        time.sleep(1)\n",
    "\n",
    "        path = []\n",
    "\n",
    "        for _ in range(50):\n",
    "            north, east, down = get_current_position(drone_connection)\n",
    "            roll, pitch, thrust, yaw_rate = get_current_attitude(drone_connection)\n",
    "            target_x, target_y, target_z = target\n",
    "\n",
    "            #print(f'Instance {pid} - North: {north}, East: {east}, Down: {down}')\n",
    "            \n",
    "            current_state = [target_x, target_y, target_z, north, east, down, roll, pitch, yaw_rate, thrust]\n",
    "            current_pos = [north, east, down]\n",
    "            \n",
    "            path.append(current_pos)\n",
    "\n",
    "            with torch.no_grad():\n",
    "                input_tensor = torch.tensor(current_state, dtype=torch.float32).unsqueeze(0)\n",
    "                new_attitude = network(input_tensor).numpy()[0]  # Remove batch dimension and convert to numpy\n",
    "                new_roll, new_pitch, new_thrust, new_yaw_rate = new_attitude\n",
    "                #print(f\"instance {pid}: setting new attitude: roll={new_roll} pitch={new_pitch} thrust={new_thrust} yaw={new_yaw_rate}\")\n",
    "                \n",
    "\n",
    "            #print(f\"Instance {pid} sending neurotic waypoint: {new_north}, {new_east}, {new_down}\")\n",
    "\n",
    "            set_attitude(drone_connection, new_roll * 1000, new_pitch * 1000, abs(new_thrust*1000), new_yaw_rate*1000)\n",
    "            time.sleep(0.02)\n",
    "        \n",
    "        timer.cancel()\n",
    "        time.sleep(5)\n",
    "        \n",
    "        with command_lock:\n",
    "            print(f\"stopping instance {pid}\")\n",
    "            stop_instance(pid)\n",
    "        \n",
    "        with results_lock:\n",
    "                result_dict[pid] = path\n",
    "                \n",
    "    except Exception as e:\n",
    "        print(f\"Error in simulate_drone for PID {pid}: {e}\")\n",
    "        if timer.is_alive():\n",
    "            timer.cancel() \n"
   ]
  },
  {
   "cell_type": "code",
   "execution_count": 7,
   "metadata": {},
   "outputs": [
    {
     "name": "stdout",
     "output_type": "stream",
     "text": [
      "Mutation rate is 0.3 and mutation strength is 0.1\n",
      "<----------------------- EPOCH 0 ------------------------->\n",
      "|- - - - - - - - - - - - cycle 0 - - - - - - - - - - - - -|\n",
      "starting instance 0 on port 14500\n",
      "starting instance 1 on port 14501\n",
      "starting instance 2 on port 14502\n",
      "starting instance 3 on port 14503\n",
      "Error in simulate_drone for PID 3: [Errno 61] Connection refused\n",
      "Error in simulate_drone for PID 2: [Errno 61] Connection refused\n",
      "Error in simulate_drone for PID 1: [Errno 61] Connection refused\n",
      "Error in simulate_drone for PID 0: [Errno 61] Connection refused\n"
     ]
    },
    {
     "data": {
      "text/plain": [
       "<Figure size 1500x1300 with 0 Axes>"
      ]
     },
     "metadata": {},
     "output_type": "display_data"
    },
    {
     "name": "stdout",
     "output_type": "stream",
     "text": [
      "<----------------------- EPOCH 1 ------------------------->\n",
      "|- - - - - - - - - - - - cycle 0 - - - - - - - - - - - - -|\n",
      "starting instance 4 on port 14504\n",
      "starting instance 5 on port 14505\n",
      "starting instance 6 on port 14506\n",
      "starting instance 7 on port 14507\n",
      "Error in simulate_drone for PID 7: [Errno 61] Connection refused\n",
      "Error in simulate_drone for PID 6: [Errno 61] Connection refused\n",
      "Error in simulate_drone for PID 4: [Errno 61] Connection refused\n",
      "Error in simulate_drone for PID 5: [Errno 61] Connection refused\n"
     ]
    },
    {
     "data": {
      "text/plain": [
       "<Figure size 1500x1300 with 0 Axes>"
      ]
     },
     "metadata": {},
     "output_type": "display_data"
    },
    {
     "name": "stdout",
     "output_type": "stream",
     "text": [
      "<----------------------- EPOCH 2 ------------------------->\n",
      "|- - - - - - - - - - - - cycle 0 - - - - - - - - - - - - -|\n",
      "starting instance 8 on port 14508\n",
      "starting instance 9 on port 14509\n",
      "starting instance 10 on port 14510\n",
      "starting instance 11 on port 14511\n",
      "Error in simulate_drone for PID 10: [Errno 61] Connection refused\n",
      "Error in simulate_drone for PID 8: [Errno 61] Connection refused\n",
      "Error in simulate_drone for PID 11: [Errno 61] Connection refused\n",
      "Error in simulate_drone for PID 9: [Errno 61] Connection refused\n"
     ]
    },
    {
     "data": {
      "text/plain": [
       "<Figure size 1500x1300 with 0 Axes>"
      ]
     },
     "metadata": {},
     "output_type": "display_data"
    },
    {
     "name": "stdout",
     "output_type": "stream",
     "text": [
      "<----------------------- EPOCH 3 ------------------------->\n",
      "|- - - - - - - - - - - - cycle 0 - - - - - - - - - - - - -|\n",
      "starting instance 12 on port 14500\n",
      "starting instance 13 on port 14501\n",
      "starting instance 14 on port 14502\n",
      "starting instance 15 on port 14503\n",
      "Error in simulate_drone for PID 15: [Errno 61] Connection refused\n",
      "Error in simulate_drone for PID 12: [Errno 61] Connection refused\n",
      "Error in simulate_drone for PID 14: [Errno 61] Connection refused\n",
      "Error in simulate_drone for PID 13: [Errno 61] Connection refused\n"
     ]
    },
    {
     "data": {
      "text/plain": [
       "<Figure size 1500x1300 with 0 Axes>"
      ]
     },
     "metadata": {},
     "output_type": "display_data"
    },
    {
     "name": "stdout",
     "output_type": "stream",
     "text": [
      "<----------------------- EPOCH 4 ------------------------->\n",
      "|- - - - - - - - - - - - cycle 0 - - - - - - - - - - - - -|\n",
      "starting instance 16 on port 14504\n",
      "starting instance 17 on port 14505\n",
      "starting instance 18 on port 14506\n",
      "starting instance 19 on port 14507\n",
      "Error in simulate_drone for PID 16: [Errno 61] Connection refused\n",
      "Error in simulate_drone for PID 17: [Errno 61] Connection refused\n",
      "Error in simulate_drone for PID 18: [Errno 61] Connection refused\n",
      "Error in simulate_drone for PID 19: [Errno 61] Connection refused\n"
     ]
    },
    {
     "data": {
      "text/plain": [
       "<Figure size 1500x1300 with 0 Axes>"
      ]
     },
     "metadata": {},
     "output_type": "display_data"
    },
    {
     "name": "stdout",
     "output_type": "stream",
     "text": [
      "<----------------------- EPOCH 5 ------------------------->\n",
      "|- - - - - - - - - - - - cycle 0 - - - - - - - - - - - - -|\n",
      "starting instance 20 on port 14508\n",
      "starting instance 21 on port 14509\n",
      "starting instance 22 on port 14510\n",
      "starting instance 23 on port 14511\n",
      "Error in simulate_drone for PID 20: [Errno 61] Connection refused\n",
      "Error in simulate_drone for PID 22: [Errno 61] Connection refused\n",
      "Error in simulate_drone for PID 21: [Errno 61] Connection refused\n",
      "Error in simulate_drone for PID 23: [Errno 61] Connection refused\n"
     ]
    },
    {
     "data": {
      "text/plain": [
       "<Figure size 1500x1300 with 0 Axes>"
      ]
     },
     "metadata": {},
     "output_type": "display_data"
    },
    {
     "name": "stdout",
     "output_type": "stream",
     "text": [
      "<----------------------- EPOCH 6 ------------------------->\n",
      "|- - - - - - - - - - - - cycle 0 - - - - - - - - - - - - -|\n",
      "starting instance 24 on port 14500\n",
      "starting instance 25 on port 14501\n",
      "starting instance 26 on port 14502\n",
      "starting instance 27 on port 14503\n",
      "Error in simulate_drone for PID 25: [Errno 61] Connection refused\n",
      "Error in simulate_drone for PID 24: [Errno 61] Connection refused\n",
      "Error in simulate_drone for PID 27: [Errno 61] Connection refused\n",
      "Error in simulate_drone for PID 26: [Errno 61] Connection refused\n"
     ]
    },
    {
     "data": {
      "text/plain": [
       "<Figure size 1500x1300 with 0 Axes>"
      ]
     },
     "metadata": {},
     "output_type": "display_data"
    },
    {
     "name": "stdout",
     "output_type": "stream",
     "text": [
      "<----------------------- EPOCH 7 ------------------------->\n",
      "|- - - - - - - - - - - - cycle 0 - - - - - - - - - - - - -|\n",
      "starting instance 28 on port 14504\n",
      "starting instance 29 on port 14505\n",
      "starting instance 30 on port 14506\n",
      "starting instance 31 on port 14507\n",
      "Error in simulate_drone for PID 29: [Errno 61] Connection refused\n",
      "Error in simulate_drone for PID 31: [Errno 61] Connection refused\n",
      "Error in simulate_drone for PID 30: [Errno 61] Connection refused\n",
      "Error in simulate_drone for PID 28: [Errno 61] Connection refused\n"
     ]
    },
    {
     "data": {
      "text/plain": [
       "<Figure size 1500x1300 with 0 Axes>"
      ]
     },
     "metadata": {},
     "output_type": "display_data"
    },
    {
     "name": "stdout",
     "output_type": "stream",
     "text": [
      "<----------------------- EPOCH 8 ------------------------->\n",
      "|- - - - - - - - - - - - cycle 0 - - - - - - - - - - - - -|\n",
      "starting instance 32 on port 14508\n",
      "starting instance 33 on port 14509\n",
      "starting instance 34 on port 14510\n",
      "starting instance 35 on port 14511\n",
      "Error in simulate_drone for PID 32: [Errno 61] Connection refused\n",
      "Error in simulate_drone for PID 33: [Errno 61] Connection refused\n",
      "Error in simulate_drone for PID 34: [Errno 61] Connection refused\n",
      "Error in simulate_drone for PID 35: [Errno 61] Connection refused\n"
     ]
    },
    {
     "data": {
      "text/plain": [
       "<Figure size 1500x1300 with 0 Axes>"
      ]
     },
     "metadata": {},
     "output_type": "display_data"
    },
    {
     "name": "stdout",
     "output_type": "stream",
     "text": [
      "<----------------------- EPOCH 9 ------------------------->\n",
      "|- - - - - - - - - - - - cycle 0 - - - - - - - - - - - - -|\n",
      "starting instance 36 on port 14500\n",
      "starting instance 37 on port 14501\n",
      "starting instance 38 on port 14502\n",
      "starting instance 39 on port 14503\n",
      "Error in simulate_drone for PID 39: [Errno 61] Connection refused\n",
      "Error in simulate_drone for PID 37: [Errno 61] Connection refused\n",
      "Error in simulate_drone for PID 36: [Errno 61] Connection refused\n",
      "Error in simulate_drone for PID 38: [Errno 61] Connection refused\n"
     ]
    },
    {
     "data": {
      "text/plain": [
       "<Figure size 1500x1300 with 0 Axes>"
      ]
     },
     "metadata": {},
     "output_type": "display_data"
    },
    {
     "name": "stdout",
     "output_type": "stream",
     "text": [
      "<----------------------- EPOCH 10 ------------------------->\n",
      "|- - - - - - - - - - - - cycle 0 - - - - - - - - - - - - -|\n",
      "starting instance 40 on port 14504\n",
      "starting instance 41 on port 14505\n",
      "starting instance 42 on port 14506\n",
      "starting instance 43 on port 14507\n",
      "Error in simulate_drone for PID 43: [Errno 61] Connection refusedError in simulate_drone for PID 40: [Errno 61] Connection refused\n",
      "Error in simulate_drone for PID 42: [Errno 61] Connection refused\n",
      "\n",
      "Error in simulate_drone for PID 41: [Errno 61] Connection refused\n"
     ]
    },
    {
     "data": {
      "text/plain": [
       "<Figure size 1500x1300 with 0 Axes>"
      ]
     },
     "metadata": {},
     "output_type": "display_data"
    },
    {
     "name": "stdout",
     "output_type": "stream",
     "text": [
      "<----------------------- EPOCH 11 ------------------------->\n",
      "|- - - - - - - - - - - - cycle 0 - - - - - - - - - - - - -|\n",
      "starting instance 44 on port 14508\n",
      "starting instance 45 on port 14509\n",
      "starting instance 46 on port 14510\n",
      "starting instance 47 on port 14511\n",
      "Error in simulate_drone for PID 44: [Errno 61] Connection refused\n",
      "Error in simulate_drone for PID 46: [Errno 61] Connection refused\n",
      "Error in simulate_drone for PID 45: [Errno 61] Connection refused\n",
      "Error in simulate_drone for PID 47: [Errno 61] Connection refused\n"
     ]
    },
    {
     "data": {
      "text/plain": [
       "<Figure size 1500x1300 with 0 Axes>"
      ]
     },
     "metadata": {},
     "output_type": "display_data"
    },
    {
     "name": "stdout",
     "output_type": "stream",
     "text": [
      "<----------------------- EPOCH 12 ------------------------->\n",
      "|- - - - - - - - - - - - cycle 0 - - - - - - - - - - - - -|\n",
      "starting instance 48 on port 14500\n",
      "starting instance 49 on port 14501\n",
      "starting instance 50 on port 14502\n",
      "starting instance 51 on port 14503\n",
      "Error in simulate_drone for PID 48: [Errno 61] Connection refused\n",
      "Error in simulate_drone for PID 49: [Errno 61] Connection refused\n",
      "Error in simulate_drone for PID 50: [Errno 61] Connection refused\n",
      "Error in simulate_drone for PID 51: [Errno 61] Connection refused\n"
     ]
    },
    {
     "data": {
      "text/plain": [
       "<Figure size 1500x1300 with 0 Axes>"
      ]
     },
     "metadata": {},
     "output_type": "display_data"
    },
    {
     "name": "stdout",
     "output_type": "stream",
     "text": [
      "<----------------------- EPOCH 13 ------------------------->\n",
      "|- - - - - - - - - - - - cycle 0 - - - - - - - - - - - - -|\n",
      "starting instance 52 on port 14504\n",
      "starting instance 53 on port 14505\n",
      "starting instance 54 on port 14506\n",
      "starting instance 55 on port 14507\n",
      "Error in simulate_drone for PID 52: [Errno 61] Connection refused\n",
      "Error in simulate_drone for PID 53: [Errno 61] Connection refused\n",
      "Error in simulate_drone for PID 54: [Errno 61] Connection refused\n",
      "Error in simulate_drone for PID 55: [Errno 61] Connection refused\n"
     ]
    },
    {
     "data": {
      "text/plain": [
       "<Figure size 1500x1300 with 0 Axes>"
      ]
     },
     "metadata": {},
     "output_type": "display_data"
    },
    {
     "name": "stdout",
     "output_type": "stream",
     "text": [
      "<----------------------- EPOCH 14 ------------------------->\n",
      "|- - - - - - - - - - - - cycle 0 - - - - - - - - - - - - -|\n",
      "starting instance 56 on port 14508\n",
      "starting instance 57 on port 14509\n",
      "starting instance 58 on port 14510\n",
      "starting instance 59 on port 14511\n",
      "Error in simulate_drone for PID 59: [Errno 61] Connection refusedError in simulate_drone for PID 57: [Errno 61] Connection refused\n",
      "Error in simulate_drone for PID 58: [Errno 61] Connection refused\n",
      "\n",
      "Error in simulate_drone for PID 56: [Errno 61] Connection refused\n"
     ]
    },
    {
     "data": {
      "text/plain": [
       "<Figure size 1500x1300 with 0 Axes>"
      ]
     },
     "metadata": {},
     "output_type": "display_data"
    },
    {
     "name": "stdout",
     "output_type": "stream",
     "text": [
      "<----------------------- EPOCH 15 ------------------------->\n",
      "|- - - - - - - - - - - - cycle 0 - - - - - - - - - - - - -|\n",
      "starting instance 60 on port 14500\n",
      "starting instance 61 on port 14501\n",
      "starting instance 62 on port 14502\n",
      "starting instance 63 on port 14503\n",
      "Error in simulate_drone for PID 61: [Errno 61] Connection refused\n",
      "Error in simulate_drone for PID 62: [Errno 61] Connection refused\n",
      "Error in simulate_drone for PID 60: [Errno 61] Connection refused\n",
      "Error in simulate_drone for PID 63: [Errno 61] Connection refused\n"
     ]
    },
    {
     "data": {
      "text/plain": [
       "<Figure size 1500x1300 with 0 Axes>"
      ]
     },
     "metadata": {},
     "output_type": "display_data"
    },
    {
     "name": "stdout",
     "output_type": "stream",
     "text": [
      "<----------------------- EPOCH 16 ------------------------->\n",
      "|- - - - - - - - - - - - cycle 0 - - - - - - - - - - - - -|\n",
      "starting instance 64 on port 14504\n",
      "starting instance 65 on port 14505\n",
      "starting instance 66 on port 14506\n",
      "starting instance 67 on port 14507\n",
      "Error in simulate_drone for PID 67: [Errno 61] Connection refused\n",
      "Error in simulate_drone for PID 65: [Errno 61] Connection refused\n",
      "Error in simulate_drone for PID 66: [Errno 61] Connection refused\n",
      "Error in simulate_drone for PID 64: [Errno 61] Connection refused\n"
     ]
    },
    {
     "data": {
      "text/plain": [
       "<Figure size 1500x1300 with 0 Axes>"
      ]
     },
     "metadata": {},
     "output_type": "display_data"
    },
    {
     "name": "stdout",
     "output_type": "stream",
     "text": [
      "<----------------------- EPOCH 17 ------------------------->\n",
      "|- - - - - - - - - - - - cycle 0 - - - - - - - - - - - - -|\n",
      "starting instance 68 on port 14508\n",
      "starting instance 69 on port 14509\n",
      "starting instance 70 on port 14510\n",
      "starting instance 71 on port 14511\n",
      "Error in simulate_drone for PID 70: [Errno 61] Connection refused\n",
      "Error in simulate_drone for PID 68: [Errno 61] Connection refused\n",
      "Error in simulate_drone for PID 69: [Errno 61] Connection refused\n",
      "Error in simulate_drone for PID 71: [Errno 61] Connection refused\n"
     ]
    },
    {
     "data": {
      "text/plain": [
       "<Figure size 1500x1300 with 0 Axes>"
      ]
     },
     "metadata": {},
     "output_type": "display_data"
    },
    {
     "name": "stdout",
     "output_type": "stream",
     "text": [
      "<----------------------- EPOCH 18 ------------------------->\n",
      "|- - - - - - - - - - - - cycle 0 - - - - - - - - - - - - -|\n",
      "starting instance 72 on port 14500\n",
      "starting instance 73 on port 14501\n",
      "starting instance 74 on port 14502\n",
      "starting instance 75 on port 14503\n",
      "Error in simulate_drone for PID 72: [Errno 61] Connection refused\n",
      "Error in simulate_drone for PID 75: [Errno 61] Connection refused\n",
      "Error in simulate_drone for PID 73: [Errno 61] Connection refused\n",
      "Error in simulate_drone for PID 74: [Errno 61] Connection refused\n"
     ]
    },
    {
     "data": {
      "text/plain": [
       "<Figure size 1500x1300 with 0 Axes>"
      ]
     },
     "metadata": {},
     "output_type": "display_data"
    },
    {
     "name": "stdout",
     "output_type": "stream",
     "text": [
      "<----------------------- EPOCH 19 ------------------------->\n",
      "|- - - - - - - - - - - - cycle 0 - - - - - - - - - - - - -|\n",
      "starting instance 76 on port 14504\n",
      "starting instance 77 on port 14505\n",
      "starting instance 78 on port 14506\n",
      "starting instance 79 on port 14507\n",
      "Error in simulate_drone for PID 77: [Errno 61] Connection refusedError in simulate_drone for PID 76: [Errno 61] Connection refused\n",
      "\n",
      "Error in simulate_drone for PID 78: [Errno 61] Connection refused\n",
      "Error in simulate_drone for PID 79: [Errno 61] Connection refused\n"
     ]
    },
    {
     "data": {
      "text/plain": [
       "<Figure size 1500x1300 with 0 Axes>"
      ]
     },
     "metadata": {},
     "output_type": "display_data"
    },
    {
     "name": "stdout",
     "output_type": "stream",
     "text": [
      "<----------------------- EPOCH 20 ------------------------->\n",
      "|- - - - - - - - - - - - cycle 0 - - - - - - - - - - - - -|\n",
      "starting instance 80 on port 14508\n",
      "starting instance 81 on port 14509\n",
      "starting instance 82 on port 14510\n",
      "starting instance 83 on port 14511\n",
      "Error in simulate_drone for PID 80: [Errno 61] Connection refused\n",
      "Error in simulate_drone for PID 81: [Errno 61] Connection refused\n",
      "Error in simulate_drone for PID 82: [Errno 61] Connection refused\n",
      "Error in simulate_drone for PID 83: [Errno 61] Connection refused\n"
     ]
    },
    {
     "data": {
      "text/plain": [
       "<Figure size 1500x1300 with 0 Axes>"
      ]
     },
     "metadata": {},
     "output_type": "display_data"
    },
    {
     "name": "stdout",
     "output_type": "stream",
     "text": [
      "<----------------------- EPOCH 21 ------------------------->\n",
      "|- - - - - - - - - - - - cycle 0 - - - - - - - - - - - - -|\n",
      "starting instance 84 on port 14500\n",
      "starting instance 85 on port 14501\n",
      "starting instance 86 on port 14502\n",
      "starting instance 87 on port 14503\n",
      "Error in simulate_drone for PID 84: [Errno 61] Connection refused\n",
      "Error in simulate_drone for PID 85: [Errno 61] Connection refused\n",
      "Error in simulate_drone for PID 86: [Errno 61] Connection refused\n",
      "Error in simulate_drone for PID 87: [Errno 61] Connection refused\n"
     ]
    },
    {
     "data": {
      "text/plain": [
       "<Figure size 1500x1300 with 0 Axes>"
      ]
     },
     "metadata": {},
     "output_type": "display_data"
    },
    {
     "name": "stdout",
     "output_type": "stream",
     "text": [
      "<----------------------- EPOCH 22 ------------------------->\n",
      "|- - - - - - - - - - - - cycle 0 - - - - - - - - - - - - -|\n",
      "starting instance 88 on port 14504\n",
      "starting instance 89 on port 14505\n",
      "starting instance 90 on port 14506\n",
      "starting instance 91 on port 14507\n",
      "Error in simulate_drone for PID 89: [Errno 61] Connection refusedError in simulate_drone for PID 88: [Errno 61] Connection refused\n",
      "\n",
      "Error in simulate_drone for PID 90: [Errno 61] Connection refused\n",
      "Error in simulate_drone for PID 91: [Errno 61] Connection refused\n"
     ]
    },
    {
     "data": {
      "text/plain": [
       "<Figure size 1500x1300 with 0 Axes>"
      ]
     },
     "metadata": {},
     "output_type": "display_data"
    },
    {
     "name": "stdout",
     "output_type": "stream",
     "text": [
      "<----------------------- EPOCH 23 ------------------------->\n",
      "|- - - - - - - - - - - - cycle 0 - - - - - - - - - - - - -|\n",
      "starting instance 92 on port 14508\n",
      "starting instance 93 on port 14509\n",
      "starting instance 94 on port 14510\n",
      "starting instance 95 on port 14511\n",
      "Error in simulate_drone for PID 94: [Errno 61] Connection refusedError in simulate_drone for PID 95: [Errno 61] Connection refused\n",
      "\n",
      "Error in simulate_drone for PID 92: [Errno 61] Connection refused\n",
      "Error in simulate_drone for PID 93: [Errno 61] Connection refused\n"
     ]
    },
    {
     "data": {
      "text/plain": [
       "<Figure size 1500x1300 with 0 Axes>"
      ]
     },
     "metadata": {},
     "output_type": "display_data"
    },
    {
     "name": "stdout",
     "output_type": "stream",
     "text": [
      "<----------------------- EPOCH 24 ------------------------->\n",
      "|- - - - - - - - - - - - cycle 0 - - - - - - - - - - - - -|\n",
      "starting instance 96 on port 14500\n",
      "starting instance 97 on port 14501\n",
      "starting instance 98 on port 14502\n",
      "starting instance 99 on port 14503\n",
      "Error in simulate_drone for PID 99: [Errno 61] Connection refused\n",
      "Error in simulate_drone for PID 97: [Errno 61] Connection refused\n",
      "Error in simulate_drone for PID 96: [Errno 61] Connection refused\n",
      "Error in simulate_drone for PID 98: [Errno 61] Connection refused\n"
     ]
    },
    {
     "data": {
      "text/plain": [
       "<Figure size 1500x1300 with 0 Axes>"
      ]
     },
     "metadata": {},
     "output_type": "display_data"
    },
    {
     "name": "stdout",
     "output_type": "stream",
     "text": [
      "<----------------------- EPOCH 25 ------------------------->\n",
      "|- - - - - - - - - - - - cycle 0 - - - - - - - - - - - - -|\n",
      "starting instance 100 on port 14504\n",
      "starting instance 101 on port 14505\n",
      "starting instance 102 on port 14506\n",
      "starting instance 103 on port 14507\n",
      "Error in simulate_drone for PID 103: [Errno 61] Connection refused\n",
      "Error in simulate_drone for PID 100: [Errno 61] Connection refused\n",
      "Error in simulate_drone for PID 102: [Errno 61] Connection refused\n",
      "Error in simulate_drone for PID 101: [Errno 61] Connection refused\n"
     ]
    },
    {
     "data": {
      "text/plain": [
       "<Figure size 1500x1300 with 0 Axes>"
      ]
     },
     "metadata": {},
     "output_type": "display_data"
    },
    {
     "name": "stdout",
     "output_type": "stream",
     "text": [
      "<----------------------- EPOCH 26 ------------------------->\n",
      "|- - - - - - - - - - - - cycle 0 - - - - - - - - - - - - -|\n",
      "starting instance 104 on port 14508\n",
      "starting instance 105 on port 14509\n",
      "starting instance 106 on port 14510\n",
      "starting instance 107 on port 14511\n",
      "Error in simulate_drone for PID 106: [Errno 61] Connection refused\n",
      "Error in simulate_drone for PID 104: [Errno 61] Connection refused\n",
      "Error in simulate_drone for PID 107: [Errno 61] Connection refused\n",
      "Error in simulate_drone for PID 105: [Errno 61] Connection refused\n"
     ]
    },
    {
     "data": {
      "text/plain": [
       "<Figure size 1500x1300 with 0 Axes>"
      ]
     },
     "metadata": {},
     "output_type": "display_data"
    },
    {
     "name": "stdout",
     "output_type": "stream",
     "text": [
      "<----------------------- EPOCH 27 ------------------------->\n",
      "|- - - - - - - - - - - - cycle 0 - - - - - - - - - - - - -|\n",
      "starting instance 108 on port 14500\n",
      "starting instance 109 on port 14501\n",
      "starting instance 110 on port 14502\n",
      "starting instance 111 on port 14503\n",
      "Error in simulate_drone for PID 111: [Errno 61] Connection refused\n",
      "Error in simulate_drone for PID 110: [Errno 61] Connection refused\n",
      "Error in simulate_drone for PID 108: [Errno 61] Connection refused\n",
      "Error in simulate_drone for PID 109: [Errno 61] Connection refused\n"
     ]
    },
    {
     "data": {
      "text/plain": [
       "<Figure size 1500x1300 with 0 Axes>"
      ]
     },
     "metadata": {},
     "output_type": "display_data"
    },
    {
     "name": "stdout",
     "output_type": "stream",
     "text": [
      "<----------------------- EPOCH 28 ------------------------->\n",
      "|- - - - - - - - - - - - cycle 0 - - - - - - - - - - - - -|\n",
      "starting instance 112 on port 14504starting instance 113 on port 14505\n",
      "\n",
      "starting instance 114 on port 14506\n",
      "starting instance 115 on port 14507\n",
      "Error in simulate_drone for PID 112: [Errno 61] Connection refused\n",
      "Error in simulate_drone for PID 113: [Errno 61] Connection refused\n",
      "Error in simulate_drone for PID 114: [Errno 61] Connection refused\n",
      "Error in simulate_drone for PID 115: [Errno 61] Connection refused\n"
     ]
    },
    {
     "data": {
      "text/plain": [
       "<Figure size 1500x1300 with 0 Axes>"
      ]
     },
     "metadata": {},
     "output_type": "display_data"
    },
    {
     "name": "stdout",
     "output_type": "stream",
     "text": [
      "<----------------------- EPOCH 29 ------------------------->\n",
      "|- - - - - - - - - - - - cycle 0 - - - - - - - - - - - - -|\n",
      "starting instance 116 on port 14508\n",
      "starting instance 117 on port 14509\n",
      "starting instance 118 on port 14510\n",
      "starting instance 119 on port 14511\n",
      "Error in simulate_drone for PID 116: [Errno 61] Connection refused\n",
      "Error in simulate_drone for PID 117: [Errno 61] Connection refused\n",
      "Error in simulate_drone for PID 118: [Errno 61] Connection refused\n",
      "Error in simulate_drone for PID 119: [Errno 61] Connection refused\n"
     ]
    },
    {
     "data": {
      "text/plain": [
       "<Figure size 1500x1300 with 0 Axes>"
      ]
     },
     "metadata": {},
     "output_type": "display_data"
    },
    {
     "name": "stdout",
     "output_type": "stream",
     "text": [
      "<----------------------- EPOCH 30 ------------------------->\n",
      "|- - - - - - - - - - - - cycle 0 - - - - - - - - - - - - -|\n",
      "starting instance 120 on port 14500\n",
      "starting instance 121 on port 14501\n",
      "starting instance 122 on port 14502\n",
      "starting instance 123 on port 14503\n",
      "Error in simulate_drone for PID 120: [Errno 61] Connection refusedError in simulate_drone for PID 123: [Errno 61] Connection refused\n",
      "Error in simulate_drone for PID 121: [Errno 61] Connection refused\n",
      "Error in simulate_drone for PID 122: [Errno 61] Connection refused\n",
      "\n"
     ]
    },
    {
     "data": {
      "text/plain": [
       "<Figure size 1500x1300 with 0 Axes>"
      ]
     },
     "metadata": {},
     "output_type": "display_data"
    },
    {
     "name": "stdout",
     "output_type": "stream",
     "text": [
      "<----------------------- EPOCH 31 ------------------------->\n",
      "|- - - - - - - - - - - - cycle 0 - - - - - - - - - - - - -|\n",
      "starting instance 124 on port 14504\n",
      "starting instance 125 on port 14505\n",
      "starting instance 126 on port 14506\n",
      "starting instance 127 on port 14507\n",
      "Error in simulate_drone for PID 125: [Errno 61] Connection refused\n",
      "Error in simulate_drone for PID 127: [Errno 61] Connection refused\n",
      "Error in simulate_drone for PID 126: [Errno 61] Connection refused\n",
      "Error in simulate_drone for PID 124: [Errno 61] Connection refused\n"
     ]
    },
    {
     "data": {
      "text/plain": [
       "<Figure size 1500x1300 with 0 Axes>"
      ]
     },
     "metadata": {},
     "output_type": "display_data"
    },
    {
     "name": "stdout",
     "output_type": "stream",
     "text": [
      "<----------------------- EPOCH 32 ------------------------->\n",
      "|- - - - - - - - - - - - cycle 0 - - - - - - - - - - - - -|\n",
      "starting instance 128 on port 14508\n",
      "starting instance 129 on port 14509starting instance 130 on port 14510\n",
      "\n",
      "starting instance 131 on port 14511\n",
      "Error in simulate_drone for PID 128: [Errno 61] Connection refused\n",
      "Error in simulate_drone for PID 130: [Errno 61] Connection refused\n",
      "Error in simulate_drone for PID 131: [Errno 61] Connection refused\n",
      "Error in simulate_drone for PID 129: [Errno 61] Connection refused\n"
     ]
    },
    {
     "data": {
      "text/plain": [
       "<Figure size 1500x1300 with 0 Axes>"
      ]
     },
     "metadata": {},
     "output_type": "display_data"
    },
    {
     "name": "stdout",
     "output_type": "stream",
     "text": [
      "<----------------------- EPOCH 33 ------------------------->\n",
      "|- - - - - - - - - - - - cycle 0 - - - - - - - - - - - - -|\n",
      "starting instance 132 on port 14500\n",
      "starting instance 133 on port 14501\n",
      "starting instance 134 on port 14502\n",
      "starting instance 135 on port 14503\n",
      "Error in simulate_drone for PID 133: [Errno 61] Connection refusedError in simulate_drone for PID 134: [Errno 61] Connection refused\n",
      "\n",
      "Error in simulate_drone for PID 135: [Errno 61] Connection refused\n",
      "Error in simulate_drone for PID 132: [Errno 61] Connection refused\n"
     ]
    },
    {
     "data": {
      "text/plain": [
       "<Figure size 1500x1300 with 0 Axes>"
      ]
     },
     "metadata": {},
     "output_type": "display_data"
    },
    {
     "name": "stdout",
     "output_type": "stream",
     "text": [
      "<----------------------- EPOCH 34 ------------------------->\n",
      "|- - - - - - - - - - - - cycle 0 - - - - - - - - - - - - -|\n",
      "starting instance 136 on port 14504\n",
      "starting instance 137 on port 14505\n",
      "starting instance 138 on port 14506\n",
      "starting instance 139 on port 14507\n",
      "Error in simulate_drone for PID 138: [Errno 61] Connection refusedError in simulate_drone for PID 139: [Errno 61] Connection refused\n",
      "\n",
      "Error in simulate_drone for PID 137: [Errno 61] Connection refused\n",
      "Error in simulate_drone for PID 136: [Errno 61] Connection refused\n"
     ]
    },
    {
     "data": {
      "text/plain": [
       "<Figure size 1500x1300 with 0 Axes>"
      ]
     },
     "metadata": {},
     "output_type": "display_data"
    },
    {
     "name": "stdout",
     "output_type": "stream",
     "text": [
      "<----------------------- EPOCH 35 ------------------------->\n",
      "|- - - - - - - - - - - - cycle 0 - - - - - - - - - - - - -|\n",
      "starting instance 140 on port 14508\n",
      "starting instance 141 on port 14509\n",
      "starting instance 142 on port 14510\n",
      "starting instance 143 on port 14511\n",
      "Error in simulate_drone for PID 141: [Errno 61] Connection refused\n",
      "Error in simulate_drone for PID 143: [Errno 61] Connection refused\n",
      "Error in simulate_drone for PID 140: [Errno 61] Connection refused\n",
      "Error in simulate_drone for PID 142: [Errno 61] Connection refused\n"
     ]
    },
    {
     "data": {
      "text/plain": [
       "<Figure size 1500x1300 with 0 Axes>"
      ]
     },
     "metadata": {},
     "output_type": "display_data"
    },
    {
     "name": "stdout",
     "output_type": "stream",
     "text": [
      "<----------------------- EPOCH 36 ------------------------->\n",
      "|- - - - - - - - - - - - cycle 0 - - - - - - - - - - - - -|\n",
      "starting instance 144 on port 14500\n",
      "starting instance 145 on port 14501\n",
      "starting instance 146 on port 14502\n",
      "starting instance 147 on port 14503\n",
      "Error in simulate_drone for PID 145: [Errno 61] Connection refused\n",
      "Error in simulate_drone for PID 147: [Errno 61] Connection refused\n",
      "Error in simulate_drone for PID 146: [Errno 61] Connection refused\n",
      "Error in simulate_drone for PID 144: [Errno 61] Connection refused\n"
     ]
    },
    {
     "data": {
      "text/plain": [
       "<Figure size 1500x1300 with 0 Axes>"
      ]
     },
     "metadata": {},
     "output_type": "display_data"
    },
    {
     "name": "stdout",
     "output_type": "stream",
     "text": [
      "<----------------------- EPOCH 37 ------------------------->\n",
      "|- - - - - - - - - - - - cycle 0 - - - - - - - - - - - - -|\n",
      "starting instance 148 on port 14504\n",
      "starting instance 149 on port 14505\n",
      "starting instance 150 on port 14506\n",
      "starting instance 151 on port 14507\n",
      "Error in simulate_drone for PID 148: [Errno 61] Connection refused\n",
      "Error in simulate_drone for PID 150: [Errno 61] Connection refused\n",
      "Error in simulate_drone for PID 151: [Errno 61] Connection refused\n",
      "Error in simulate_drone for PID 149: [Errno 61] Connection refused\n"
     ]
    },
    {
     "data": {
      "text/plain": [
       "<Figure size 1500x1300 with 0 Axes>"
      ]
     },
     "metadata": {},
     "output_type": "display_data"
    },
    {
     "name": "stdout",
     "output_type": "stream",
     "text": [
      "<----------------------- EPOCH 38 ------------------------->\n",
      "|- - - - - - - - - - - - cycle 0 - - - - - - - - - - - - -|\n",
      "starting instance 152 on port 14508\n",
      "starting instance 153 on port 14509\n",
      "starting instance 154 on port 14510\n",
      "starting instance 155 on port 14511\n",
      "Error in simulate_drone for PID 155: [Errno 61] Connection refused\n",
      "Error in simulate_drone for PID 152: [Errno 61] Connection refused\n",
      "Error in simulate_drone for PID 153: [Errno 61] Connection refused\n",
      "Error in simulate_drone for PID 154: [Errno 61] Connection refused\n"
     ]
    },
    {
     "data": {
      "text/plain": [
       "<Figure size 1500x1300 with 0 Axes>"
      ]
     },
     "metadata": {},
     "output_type": "display_data"
    },
    {
     "name": "stdout",
     "output_type": "stream",
     "text": [
      "<----------------------- EPOCH 39 ------------------------->\n",
      "|- - - - - - - - - - - - cycle 0 - - - - - - - - - - - - -|\n",
      "starting instance 156 on port 14500\n",
      "starting instance 157 on port 14501\n",
      "starting instance 158 on port 14502\n",
      "starting instance 159 on port 14503\n",
      "Error in simulate_drone for PID 156: [Errno 61] Connection refused\n",
      "Error in simulate_drone for PID 159: [Errno 61] Connection refused\n",
      "Error in simulate_drone for PID 157: [Errno 61] Connection refused\n",
      "Error in simulate_drone for PID 158: [Errno 61] Connection refused\n"
     ]
    },
    {
     "data": {
      "text/plain": [
       "<Figure size 1500x1300 with 0 Axes>"
      ]
     },
     "metadata": {},
     "output_type": "display_data"
    },
    {
     "name": "stdout",
     "output_type": "stream",
     "text": [
      "<----------------------- EPOCH 40 ------------------------->\n",
      "|- - - - - - - - - - - - cycle 0 - - - - - - - - - - - - -|\n",
      "starting instance 160 on port 14504\n",
      "starting instance 161 on port 14505\n",
      "starting instance 162 on port 14506\n",
      "starting instance 163 on port 14507\n",
      "Error in simulate_drone for PID 163: [Errno 61] Connection refused\n",
      "Error in simulate_drone for PID 160: [Errno 61] Connection refused\n",
      "Error in simulate_drone for PID 161: [Errno 61] Connection refused\n",
      "Error in simulate_drone for PID 162: [Errno 61] Connection refused\n"
     ]
    },
    {
     "data": {
      "text/plain": [
       "<Figure size 1500x1300 with 0 Axes>"
      ]
     },
     "metadata": {},
     "output_type": "display_data"
    },
    {
     "name": "stdout",
     "output_type": "stream",
     "text": [
      "<----------------------- EPOCH 41 ------------------------->\n",
      "|- - - - - - - - - - - - cycle 0 - - - - - - - - - - - - -|\n",
      "starting instance 164 on port 14508\n",
      "starting instance 165 on port 14509\n",
      "starting instance 166 on port 14510\n",
      "starting instance 167 on port 14511\n",
      "Error in simulate_drone for PID 164: [Errno 61] Connection refusedError in simulate_drone for PID 167: [Errno 61] Connection refused\n",
      "Error in simulate_drone for PID 166: [Errno 61] Connection refused\n",
      "Error in simulate_drone for PID 165: [Errno 61] Connection refused\n",
      "\n"
     ]
    },
    {
     "data": {
      "text/plain": [
       "<Figure size 1500x1300 with 0 Axes>"
      ]
     },
     "metadata": {},
     "output_type": "display_data"
    },
    {
     "name": "stdout",
     "output_type": "stream",
     "text": [
      "<----------------------- EPOCH 42 ------------------------->\n",
      "|- - - - - - - - - - - - cycle 0 - - - - - - - - - - - - -|\n",
      "starting instance 168 on port 14500\n",
      "starting instance 169 on port 14501\n",
      "starting instance 170 on port 14502\n",
      "starting instance 171 on port 14503\n",
      "Error in simulate_drone for PID 168: [Errno 61] Connection refusedError in simulate_drone for PID 170: [Errno 61] Connection refused\n",
      "Error in simulate_drone for PID 169: [Errno 61] Connection refused\n",
      "Error in simulate_drone for PID 171: [Errno 61] Connection refused\n",
      "\n"
     ]
    },
    {
     "data": {
      "text/plain": [
       "<Figure size 1500x1300 with 0 Axes>"
      ]
     },
     "metadata": {},
     "output_type": "display_data"
    },
    {
     "name": "stdout",
     "output_type": "stream",
     "text": [
      "<----------------------- EPOCH 43 ------------------------->\n",
      "|- - - - - - - - - - - - cycle 0 - - - - - - - - - - - - -|\n",
      "starting instance 172 on port 14504\n",
      "starting instance 173 on port 14505\n",
      "starting instance 174 on port 14506\n",
      "starting instance 175 on port 14507\n",
      "Error in simulate_drone for PID 172: [Errno 61] Connection refused\n",
      "Error in simulate_drone for PID 173: [Errno 61] Connection refused\n",
      "Error in simulate_drone for PID 175: [Errno 61] Connection refused\n",
      "Error in simulate_drone for PID 174: [Errno 61] Connection refused\n"
     ]
    },
    {
     "data": {
      "text/plain": [
       "<Figure size 1500x1300 with 0 Axes>"
      ]
     },
     "metadata": {},
     "output_type": "display_data"
    },
    {
     "name": "stdout",
     "output_type": "stream",
     "text": [
      "<----------------------- EPOCH 44 ------------------------->\n",
      "|- - - - - - - - - - - - cycle 0 - - - - - - - - - - - - -|\n",
      "starting instance 176 on port 14508\n",
      "starting instance 177 on port 14509\n",
      "starting instance 178 on port 14510\n",
      "starting instance 179 on port 14511\n",
      "Error in simulate_drone for PID 176: [Errno 61] Connection refused\n",
      "Error in simulate_drone for PID 178: [Errno 61] Connection refused\n",
      "Error in simulate_drone for PID 179: [Errno 61] Connection refused\n",
      "Error in simulate_drone for PID 177: [Errno 61] Connection refused\n"
     ]
    },
    {
     "data": {
      "text/plain": [
       "<Figure size 1500x1300 with 0 Axes>"
      ]
     },
     "metadata": {},
     "output_type": "display_data"
    },
    {
     "name": "stdout",
     "output_type": "stream",
     "text": [
      "<----------------------- EPOCH 45 ------------------------->\n",
      "|- - - - - - - - - - - - cycle 0 - - - - - - - - - - - - -|\n",
      "starting instance 180 on port 14500\n",
      "starting instance 181 on port 14501\n",
      "starting instance 182 on port 14502\n",
      "starting instance 183 on port 14503\n",
      "Error in simulate_drone for PID 182: [Errno 61] Connection refused\n",
      "Error in simulate_drone for PID 180: [Errno 61] Connection refused\n",
      "Error in simulate_drone for PID 181: [Errno 61] Connection refused\n",
      "Error in simulate_drone for PID 183: [Errno 61] Connection refused\n"
     ]
    },
    {
     "data": {
      "text/plain": [
       "<Figure size 1500x1300 with 0 Axes>"
      ]
     },
     "metadata": {},
     "output_type": "display_data"
    },
    {
     "name": "stdout",
     "output_type": "stream",
     "text": [
      "<----------------------- EPOCH 46 ------------------------->\n",
      "|- - - - - - - - - - - - cycle 0 - - - - - - - - - - - - -|\n",
      "starting instance 184 on port 14504\n",
      "starting instance 185 on port 14505\n",
      "starting instance 186 on port 14506\n",
      "starting instance 187 on port 14507\n",
      "Error in simulate_drone for PID 186: [Errno 61] Connection refused\n",
      "Error in simulate_drone for PID 185: [Errno 61] Connection refused\n",
      "Error in simulate_drone for PID 184: [Errno 61] Connection refused\n",
      "Error in simulate_drone for PID 187: [Errno 61] Connection refused\n"
     ]
    },
    {
     "data": {
      "text/plain": [
       "<Figure size 1500x1300 with 0 Axes>"
      ]
     },
     "metadata": {},
     "output_type": "display_data"
    },
    {
     "name": "stdout",
     "output_type": "stream",
     "text": [
      "<----------------------- EPOCH 47 ------------------------->\n",
      "|- - - - - - - - - - - - cycle 0 - - - - - - - - - - - - -|\n",
      "starting instance 188 on port 14508\n",
      "starting instance 189 on port 14509\n",
      "starting instance 190 on port 14510\n",
      "starting instance 191 on port 14511\n",
      "Error in simulate_drone for PID 189: [Errno 61] Connection refusedError in simulate_drone for PID 188: [Errno 61] Connection refused\n",
      "\n",
      "Error in simulate_drone for PID 191: [Errno 61] Connection refused\n",
      "Error in simulate_drone for PID 190: [Errno 61] Connection refused\n"
     ]
    },
    {
     "data": {
      "text/plain": [
       "<Figure size 1500x1300 with 0 Axes>"
      ]
     },
     "metadata": {},
     "output_type": "display_data"
    },
    {
     "name": "stdout",
     "output_type": "stream",
     "text": [
      "<----------------------- EPOCH 48 ------------------------->\n",
      "|- - - - - - - - - - - - cycle 0 - - - - - - - - - - - - -|\n",
      "starting instance 192 on port 14500\n",
      "starting instance 193 on port 14501\n",
      "starting instance 194 on port 14502\n",
      "starting instance 195 on port 14503\n",
      "Error in simulate_drone for PID 194: [Errno 61] Connection refusedError in simulate_drone for PID 195: [Errno 61] Connection refused\n",
      "Error in simulate_drone for PID 193: [Errno 61] Connection refused\n",
      "Error in simulate_drone for PID 192: [Errno 61] Connection refused\n",
      "\n"
     ]
    },
    {
     "data": {
      "text/plain": [
       "<Figure size 1500x1300 with 0 Axes>"
      ]
     },
     "metadata": {},
     "output_type": "display_data"
    },
    {
     "name": "stdout",
     "output_type": "stream",
     "text": [
      "<----------------------- EPOCH 49 ------------------------->\n",
      "|- - - - - - - - - - - - cycle 0 - - - - - - - - - - - - -|\n",
      "starting instance 196 on port 14504\n",
      "starting instance 197 on port 14505\n",
      "starting instance 198 on port 14506\n",
      "starting instance 199 on port 14507\n",
      "Error in simulate_drone for PID 196: [Errno 61] Connection refused\n",
      "Error in simulate_drone for PID 199: [Errno 61] Connection refused\n",
      "Error in simulate_drone for PID 198: [Errno 61] Connection refused\n",
      "Error in simulate_drone for PID 197: [Errno 61] Connection refused\n"
     ]
    },
    {
     "data": {
      "text/plain": [
       "<Figure size 1500x1300 with 0 Axes>"
      ]
     },
     "metadata": {},
     "output_type": "display_data"
    }
   ],
   "source": [
    "import threading\n",
    "import random\n",
    "\n",
    "def main():\n",
    "    out_port_base = 14500\n",
    "    pid_base = 0\n",
    "    instance_count = 4  # Number of individuals (simulation instances) per cycle\n",
    "    epochs = 50\n",
    "    target = [0, 0, 0]\n",
    "    mutation_rate = 0.3\n",
    "    mutation_strength = 0.1\n",
    "    num_cycles = 1\n",
    "    population_size = instance_count * num_cycles\n",
    "\n",
    "    print(f\"Mutation rate is {mutation_rate} and mutation strength is {mutation_strength}\")\n",
    "\n",
    "    # Initialize the population\n",
    "    population = initialize_population(population_size)\n",
    "\n",
    "    for j in range(epochs):\n",
    "        print(f\"<----------------------- EPOCH {j} ------------------------->\")\n",
    "        fitness_scores = [0] * population_size\n",
    "\n",
    "        for cycle in range(num_cycles):\n",
    "            print(f\"|- - - - - - - - - - - - cycle {cycle} - - - - - - - - - - - - -|\")\n",
    "\n",
    "            target_x = 7 #random.randint(-25, 25)\n",
    "            target_y = 7 #random.randint(-25, 25)\n",
    "            target_z = 7 #random.randint(0, 25)\n",
    "            target = target_x, target_y, target_z\n",
    "\n",
    "            threads = []\n",
    "            results = {}\n",
    "            results_lock = threading.Lock()\n",
    "\n",
    "            start_index = cycle * instance_count\n",
    "            end_index = min((cycle + 1) * instance_count, population_size)\n",
    "\n",
    "            for i in range(start_index, end_index):\n",
    "                pid = pid_base + i\n",
    "                out_port = out_port_base + i\n",
    "                network = population[i]\n",
    "\n",
    "                t = threading.Thread(target=simulate_drone, args=(pid, out_port, network, results, target, results_lock))\n",
    "                t.start()\n",
    "                threads.append(t)\n",
    "\n",
    "            # Ensure all threads have finished\n",
    "            for t in threads:\n",
    "                t.join(timeout=25)\n",
    "\n",
    "            with results_lock:\n",
    "                for pid, path in results.items():\n",
    "                    index = pid % population_size\n",
    "                    fitness = get_fitness(path, target)\n",
    "                    fitness_scores[index] = fitness\n",
    "                    print(f\"Instance: {pid} fitness: {fitness}\")\n",
    "\n",
    "            plot_3d_paths(results, target)\n",
    "\n",
    "            pid_base += instance_count\n",
    "            out_port_base += instance_count\n",
    "            if (out_port_base >= 14510):\n",
    "                out_port_base = 14500\n",
    "\n",
    "        population = generate_new_population(population, fitness_scores, mutation_rate, mutation_strength)\n",
    "\n",
    "if __name__ == \"__main__\":\n",
    "    main()\n"
   ]
  }
 ],
 "metadata": {
  "kernelspec": {
   "display_name": "Python 3",
   "language": "python",
   "name": "python3"
  },
  "language_info": {
   "codemirror_mode": {
    "name": "ipython",
    "version": 3
   },
   "file_extension": ".py",
   "mimetype": "text/x-python",
   "name": "python",
   "nbconvert_exporter": "python",
   "pygments_lexer": "ipython3",
   "version": "3.9.5"
  }
 },
 "nbformat": 4,
 "nbformat_minor": 2
}
